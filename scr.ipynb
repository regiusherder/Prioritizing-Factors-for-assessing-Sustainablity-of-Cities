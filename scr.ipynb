{
 "cells": [
  {
   "cell_type": "code",
   "execution_count": 107,
   "metadata": {},
   "outputs": [],
   "source": [
    "import pandas as pd\n",
    "import numpy as np"
   ]
  },
  {
   "cell_type": "code",
   "execution_count": 108,
   "metadata": {},
   "outputs": [],
   "source": [
    "data = pd.read_excel('scores.xlsx', index_col=0)"
   ]
  },
  {
   "cell_type": "code",
   "execution_count": 109,
   "metadata": {},
   "outputs": [],
   "source": [
    "factors = ['F1', 'F2', 'F3', 'F4', 'F5', 'F6', 'F7', 'F8', 'F9', 'F10', 'F11', 'F12']\n",
    "indices = ['V','M','I']"
   ]
  },
  {
   "cell_type": "code",
   "execution_count": 110,
   "metadata": {},
   "outputs": [
    {
     "data": {
      "text/html": [
       "<div>\n",
       "<style scoped>\n",
       "    .dataframe tbody tr th:only-of-type {\n",
       "        vertical-align: middle;\n",
       "    }\n",
       "\n",
       "    .dataframe tbody tr th {\n",
       "        vertical-align: top;\n",
       "    }\n",
       "\n",
       "    .dataframe thead th {\n",
       "        text-align: right;\n",
       "    }\n",
       "</style>\n",
       "<table border=\"1\" class=\"dataframe\">\n",
       "  <thead>\n",
       "    <tr style=\"text-align: right;\">\n",
       "      <th></th>\n",
       "      <th>F1</th>\n",
       "      <th>F2</th>\n",
       "      <th>F3</th>\n",
       "      <th>F4</th>\n",
       "      <th>F5</th>\n",
       "      <th>F6</th>\n",
       "      <th>F7</th>\n",
       "      <th>F8</th>\n",
       "      <th>F9</th>\n",
       "      <th>F10</th>\n",
       "      <th>F11</th>\n",
       "      <th>F12</th>\n",
       "    </tr>\n",
       "  </thead>\n",
       "  <tbody>\n",
       "    <tr>\n",
       "      <th>V</th>\n",
       "      <td>0.4055</td>\n",
       "      <td>0.8640</td>\n",
       "      <td>0.8640</td>\n",
       "      <td>0.928187</td>\n",
       "      <td>0.7520</td>\n",
       "      <td>0.928687</td>\n",
       "      <td>0.8645</td>\n",
       "      <td>0.8640</td>\n",
       "      <td>0.928687</td>\n",
       "      <td>0.7555</td>\n",
       "      <td>0.6675</td>\n",
       "      <td>0.8640</td>\n",
       "    </tr>\n",
       "    <tr>\n",
       "      <th>M</th>\n",
       "      <td>0.6395</td>\n",
       "      <td>0.2445</td>\n",
       "      <td>0.2445</td>\n",
       "      <td>0.244062</td>\n",
       "      <td>0.3960</td>\n",
       "      <td>0.135562</td>\n",
       "      <td>0.1360</td>\n",
       "      <td>0.2445</td>\n",
       "      <td>0.135562</td>\n",
       "      <td>0.2480</td>\n",
       "      <td>0.4055</td>\n",
       "      <td>0.2445</td>\n",
       "    </tr>\n",
       "    <tr>\n",
       "      <th>I</th>\n",
       "      <td>0.1355</td>\n",
       "      <td>0.0100</td>\n",
       "      <td>0.0100</td>\n",
       "      <td>0.010000</td>\n",
       "      <td>0.1355</td>\n",
       "      <td>0.010000</td>\n",
       "      <td>0.0100</td>\n",
       "      <td>0.0100</td>\n",
       "      <td>0.010000</td>\n",
       "      <td>0.0100</td>\n",
       "      <td>0.1355</td>\n",
       "      <td>0.0100</td>\n",
       "    </tr>\n",
       "  </tbody>\n",
       "</table>\n",
       "</div>"
      ],
      "text/plain": [
       "       F1      F2      F3        F4      F5        F6      F7      F8  \\\n",
       "V  0.4055  0.8640  0.8640  0.928187  0.7520  0.928687  0.8645  0.8640   \n",
       "M  0.6395  0.2445  0.2445  0.244062  0.3960  0.135562  0.1360  0.2445   \n",
       "I  0.1355  0.0100  0.0100  0.010000  0.1355  0.010000  0.0100  0.0100   \n",
       "\n",
       "         F9     F10     F11     F12  \n",
       "V  0.928687  0.7555  0.6675  0.8640  \n",
       "M  0.135562  0.2480  0.4055  0.2445  \n",
       "I  0.010000  0.0100  0.1355  0.0100  "
      ]
     },
     "execution_count": 110,
     "metadata": {},
     "output_type": "execute_result"
    }
   ],
   "source": [
    "data"
   ]
  },
  {
   "cell_type": "code",
   "execution_count": 111,
   "metadata": {},
   "outputs": [],
   "source": [
    "def calculate_uij(xij, L, M, H):\n",
    "    \"\"\"\n",
    "    Calculate μij based on the given conditions for xij.\n",
    "    \n",
    "    Parameters:\n",
    "    xij (float): Input value\n",
    "    M (float): Parameter M\n",
    "    H (float): Parameter H\n",
    "    L (float): Parameter L\n",
    "    \n",
    "    Returns:\n",
    "    tuple: The calculated μij tuple based on the conditions\n",
    "    \"\"\"\n",
    "    # if xij ∈ [M,H] and xij ≥ (M + H)/2\n",
    "    if M <= xij <= H and xij >= (M + H)/2:\n",
    "        return (xij, xij, (H + xij)/2)\n",
    "    \n",
    "    # if xij = H\n",
    "    if xij == H:\n",
    "        return ((3*H + M)/4, H, H)\n",
    "    \n",
    "    # if xij = M\n",
    "    if xij == M:\n",
    "        return ((M - L) - M**3/(3*H), M, (3*H*L + M**2)/M)\n",
    "    \n",
    "    # if xij = L\n",
    "    if xij == L:\n",
    "        return (L, L, L)\n",
    "    \n",
    "    # if xij < M\n",
    "    if xij < M:\n",
    "        return (((xij + 2*L + M)/2)*xij, xij, xij)\n",
    "    \n",
    "    # if xij > M and xij < (M + H)/2\n",
    "    if xij > M and xij < (M + H)/2:\n",
    "        return ((3*xij + M)/4, xij, xij)\n",
    "    \n",
    "    # If none of the conditions are met, return None or raise an exception\n",
    "    raise ValueError(\"Input xij does not meet any of the defined conditions\")"
   ]
  },
  {
   "cell_type": "code",
   "execution_count": 112,
   "metadata": {},
   "outputs": [],
   "source": [
    "L = 0.01\n",
    "M = 0.5\n",
    "H = 0.99"
   ]
  },
  {
   "cell_type": "code",
   "execution_count": 113,
   "metadata": {},
   "outputs": [],
   "source": [
    "result = np.array([calculate_uij(x, L, M, H) for row in data.to_numpy() for x in row]).reshape(3, 12, 3)"
   ]
  },
  {
   "cell_type": "code",
   "execution_count": 114,
   "metadata": {},
   "outputs": [
    {
     "data": {
      "text/plain": [
       "array([[[0.18764512, 0.4055    , 0.4055    ],\n",
       "        [0.864     , 0.864     , 0.927     ],\n",
       "        [0.864     , 0.864     , 0.927     ],\n",
       "        [0.9281875 , 0.9281875 , 0.95909375],\n",
       "        [0.752     , 0.752     , 0.871     ],\n",
       "        [0.9286875 , 0.9286875 , 0.95934375],\n",
       "        [0.8645    , 0.8645    , 0.92725   ],\n",
       "        [0.864     , 0.864     , 0.927     ],\n",
       "        [0.9286875 , 0.9286875 , 0.95934375],\n",
       "        [0.7555    , 0.7555    , 0.87275   ],\n",
       "        [0.625625  , 0.6675    , 0.6675    ],\n",
       "        [0.864     , 0.864     , 0.927     ]],\n",
       "\n",
       "       [[0.604625  , 0.6395    , 0.6395    ],\n",
       "        [0.09346012, 0.2445    , 0.2445    ],\n",
       "        [0.09346012, 0.2445    , 0.2445    ],\n",
       "        [0.0932395 , 0.2440625 , 0.2440625 ],\n",
       "        [0.181368  , 0.396     , 0.396     ],\n",
       "        [0.04443485, 0.1355625 , 0.1355625 ],\n",
       "        [0.044608  , 0.136     , 0.136     ],\n",
       "        [0.09346012, 0.2445    , 0.2445    ],\n",
       "        [0.04443485, 0.1355625 , 0.1355625 ],\n",
       "        [0.095232  , 0.248     , 0.248     ],\n",
       "        [0.18764512, 0.4055    , 0.4055    ],\n",
       "        [0.09346012, 0.2445    , 0.2445    ]],\n",
       "\n",
       "       [[0.04441012, 0.1355    , 0.1355    ],\n",
       "        [0.01      , 0.01      , 0.01      ],\n",
       "        [0.01      , 0.01      , 0.01      ],\n",
       "        [0.01      , 0.01      , 0.01      ],\n",
       "        [0.04441012, 0.1355    , 0.1355    ],\n",
       "        [0.01      , 0.01      , 0.01      ],\n",
       "        [0.01      , 0.01      , 0.01      ],\n",
       "        [0.01      , 0.01      , 0.01      ],\n",
       "        [0.01      , 0.01      , 0.01      ],\n",
       "        [0.01      , 0.01      , 0.01      ],\n",
       "        [0.04441012, 0.1355    , 0.1355    ],\n",
       "        [0.01      , 0.01      , 0.01      ]]])"
      ]
     },
     "execution_count": 114,
     "metadata": {},
     "output_type": "execute_result"
    }
   ],
   "source": [
    "result"
   ]
  },
  {
   "cell_type": "code",
   "execution_count": 115,
   "metadata": {},
   "outputs": [],
   "source": [
    "w1 = 0.6\n",
    "w2 = 0.3\n",
    "w3 = 0.1\n",
    "\n",
    "w1n = w1\n",
    "w2n = w2 \n",
    "w3n = w3 \n",
    "\n",
    "result[0] = w1n * result[0]\n",
    "result[1] = w2n * result[1]\n",
    "result[2] = w3n * result[2]\n",
    "some = np.zeros((result.shape[0], result.shape[1]))\n",
    "for i in range(result.shape[0]):\n",
    "    for j in range(result.shape[1]):\n",
    "        some[i][j] = result[i][j][0]*result[i][j][1] + result[i][j][1]*result[i][j][2] + result[i][j][2]*result[i][j][0]\n",
    "aw = some.sum(axis=0)\n",
    "# normalize the result\n",
    "cw = aw / aw.sum()"
   ]
  },
  {
   "cell_type": "code",
   "execution_count": 116,
   "metadata": {},
   "outputs": [],
   "source": [
    "# save to csv\n",
    "result_df = pd.DataFrame({'SCR area':aw, 'Factor weight':cw})\n",
    "result_df.index = factors"
   ]
  },
  {
   "cell_type": "code",
   "execution_count": 118,
   "metadata": {},
   "outputs": [],
   "source": [
    "result_df.to_csv('result.csv', index=True, header=True)"
   ]
  },
  {
   "cell_type": "code",
   "execution_count": null,
   "metadata": {},
   "outputs": [],
   "source": []
  }
 ],
 "metadata": {
  "kernelspec": {
   "display_name": "Python 3",
   "language": "python",
   "name": "python3"
  },
  "language_info": {
   "codemirror_mode": {
    "name": "ipython",
    "version": 3
   },
   "file_extension": ".py",
   "mimetype": "text/x-python",
   "name": "python",
   "nbconvert_exporter": "python",
   "pygments_lexer": "ipython3",
   "version": "3.10.6"
  }
 },
 "nbformat": 4,
 "nbformat_minor": 2
}
