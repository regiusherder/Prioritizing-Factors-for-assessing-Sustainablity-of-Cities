{
 "cells": [
  {
   "cell_type": "code",
   "execution_count": 21,
   "id": "ea25e796",
   "metadata": {},
   "outputs": [],
   "source": [
    "import pandas as pd\n",
    "import numpy as np\n",
    "import nltk\n",
    "from nltk.corpus import stopwords\n",
    "from tqdm import tqdm\n",
    "import matplotlib.pyplot as plt\n",
    "from bertopic import BERTopic\n",
    "from umap import UMAP\n",
    "from hdbscan import HDBSCAN\n",
    "from sklearn.feature_extraction.text import CountVectorizer\n",
    "from bertopic.representation import MaximalMarginalRelevance\n",
    "from bertopic.vectorizers import ClassTfidfTransformer\n",
    "from sentence_transformers import SentenceTransformer\n",
    "from bertopic.representation import KeyBERTInspired\n",
    "import re"
   ]
  },
  {
   "cell_type": "code",
   "execution_count": 22,
   "id": "ac06812c",
   "metadata": {},
   "outputs": [],
   "source": [
    "# Load abstracts from CSV (adjust path as needed)\n",
    "df = pd.read_csv(\"scopus.csv\")\n",
    "df = df[df['Abstract']!='[No abstract available]']"
   ]
  },
  {
   "cell_type": "code",
   "execution_count": 23,
   "id": "263fc68c",
   "metadata": {},
   "outputs": [
    {
     "name": "stdout",
     "output_type": "stream",
     "text": [
      "Number of abstracts: 1371\n",
      "Sample abstract: The idea of sustainable cities has drawn a lot of attention due to the quick expansion of metropolitan areas as well as the growing problems brought on by resource scarcity and climate change. Cities \n"
     ]
    }
   ],
   "source": [
    "abstracts = df['Abstract'].dropna().tolist()  # Remove missing values\n",
    "\n",
    "# Verify data\n",
    "print(f\"Number of abstracts: {len(abstracts)}\")\n",
    "print(\"Sample abstract:\", abstracts[0][:200])  # Preview first 200 chars"
   ]
  },
  {
   "cell_type": "code",
   "execution_count": 24,
   "id": "6b066f77",
   "metadata": {},
   "outputs": [
    {
     "name": "stdout",
     "output_type": "stream",
     "text": [
      "Loading embedding model...\n",
      "Calculating document embeddings...\n"
     ]
    },
    {
     "name": "stderr",
     "output_type": "stream",
     "text": [
      "Batches: 100%|██████████| 43/43 [07:49<00:00, 10.93s/it]"
     ]
    },
    {
     "name": "stdout",
     "output_type": "stream",
     "text": [
      "Embeddings calculated.\n"
     ]
    },
    {
     "name": "stderr",
     "output_type": "stream",
     "text": [
      "\n"
     ]
    }
   ],
   "source": [
    "print(\"Loading embedding model...\")\n",
    "embedding_model = SentenceTransformer('all-mpnet-base-v2')\n",
    "print(\"Calculating document embeddings...\")\n",
    "document_embeddings = embedding_model.encode(abstracts, show_progress_bar=True)\n",
    "print(\"Embeddings calculated.\")"
   ]
  },
  {
   "cell_type": "code",
   "execution_count": 31,
   "id": "841f5801",
   "metadata": {},
   "outputs": [
    {
     "name": "stderr",
     "output_type": "stream",
     "text": [
      "2025-04-28 11:58:40,185 - BERTopic - Dimensionality - Fitting the dimensionality reduction algorithm\n"
     ]
    },
    {
     "name": "stdout",
     "output_type": "stream",
     "text": [
      "Fitting BERTopic model using pre-calculated embeddings...\n"
     ]
    },
    {
     "name": "stderr",
     "output_type": "stream",
     "text": [
      "2025-04-28 11:58:43,820 - BERTopic - Dimensionality - Completed ✓\n",
      "2025-04-28 11:58:43,822 - BERTopic - Cluster - Start clustering the reduced embeddings\n",
      "2025-04-28 11:58:43,913 - BERTopic - Cluster - Completed ✓\n",
      "2025-04-28 11:58:43,913 - BERTopic - Representation - Fine-tuning topics using representation models.\n",
      "2025-04-28 11:59:59,979 - BERTopic - Representation - Completed ✓\n",
      "2025-04-28 12:00:00,316 - BERTopic - Dimensionality - Reducing dimensionality of input embeddings.\n",
      "2025-04-28 12:00:00,325 - BERTopic - Dimensionality - Completed ✓\n",
      "2025-04-28 12:00:00,325 - BERTopic - Clustering - Approximating new points with `hdbscan_model`\n",
      "2025-04-28 12:00:00,371 - BERTopic - Cluster - Completed ✓\n",
      "2025-04-28 12:00:00,375 - BERTopic - Topic reduction - Reducing number of topics\n",
      "2025-04-28 12:00:00,382 - BERTopic - Representation - Fine-tuning topics using representation models.\n"
     ]
    },
    {
     "name": "stdout",
     "output_type": "stream",
     "text": [
      "BERTopic model fitted.\n",
      "Transforming documents to get topic assignments and probabilities...\n",
      "Transformation complete.\n"
     ]
    },
    {
     "name": "stderr",
     "output_type": "stream",
     "text": [
      "2025-04-28 12:01:00,817 - BERTopic - Representation - Completed ✓\n",
      "2025-04-28 12:01:00,825 - BERTopic - Topic reduction - Reduced number of topics from 26 to 20\n"
     ]
    },
    {
     "name": "stdout",
     "output_type": "stream",
     "text": [
      "Topic 1: ['sustainability', 'ecological', 'cities', 'environmental', 'sustainable', 'settlements', 'heritage', 'land', 'city', 'housing']\n",
      "Topic 2: ['sustainability', 'urbanism', 'cities', 'sustainable', 'iot', 'data', 'environmental', 'sensors', 'analytics', 'intelligent']\n",
      "Topic 3: ['transportation', 'vehicles', 'logistics', 'transport', 'commuting', 'walkability', 'vehicle', 'emissions', 'freight', 'traffic']\n",
      "Topic 4: ['streetscape', 'urbanization', 'ecological', 'gardens', 'ecology', 'landscapes', 'garden', 'ecosystem', 'ecosystems', 'vegetation']\n",
      "Topic 5: ['sustainability', 'pollution', 'climate', 'emissions', 'environmental', 'eco', 'economic', 'vilnius', 'countries', 'competitiveness']\n",
      "Topic 6: ['urbanization', 'shenzhen', 'city', 'yangzhou', 'governance', 'tianjin', 'zhuhai', 'towns', 'governments', 'eco']\n",
      "Topic 7: ['agroecology', 'agriculture', 'agricultural', 'agroecological', 'floriculture', 'farmers', 'horticultural', 'farms', 'cultivation', 'gardens']\n",
      "Topic 8: ['thermal', 'roofs', 'solarcity', 'rooftop', 'roof', 'insulation', 'buildings', 'architecture', 'architectural', 'building']\n",
      "Topic 9: ['stormwater', 'wastewater', 'drainage', 'wetlands', 'rainwater', 'irrigation', 'runoff', 'groundwater', 'flood', 'freshwater']\n",
      "Topic 10: ['sustainability', 'branding', 'environmental', 'tourism', 'brands', 'destinations', 'brand', 'tourist', 'tourists', 'affordability']\n",
      "Topic 11: ['turbines', 'solar', 'geothermal', 'kwh', 'turbine', 'desalination', 'renewable', 'biomass', 'hydrogen', 'inverter']\n",
      "Topic 12: ['renewable', 'climate', 'emissions', 'energy', 'turbine', 'energies', 'buildings', 'electricity', 'power', 'subsidies']\n",
      "Topic 13: ['streets', 'health', 'greenness', 'housing', 'populations', 'obesity', 'lifestyles', 'healthier', 'prevalence', 'transport']\n",
      "Topic 14: ['interdisciplinarity', 'educating', 'university', 'education', 'universities', 'disciplines', 'geography', 'interdisciplinary', 'curriculum', 'teaching']\n",
      "Topic 15: ['gentrification', 'urbanism', 'neighborhoods', 'greening', 'environmental', 'gardens', 'decolonizing', 'citys', 'segregation', 'suburbs']\n",
      "Topic 16: ['landfill', 'waste', 'recycling', 'composting', 'compost', 'disposal', 'sewage', 'wastes', 'biowaste', 'pyrolysis']\n",
      "Topic 17: ['lstm', 'lstms', 'predicting', 'predictive', 'prediction', 'convolutional', 'rmse', 'dataset', 'neural', 'accuracy']\n",
      "Topic 18: ['urbanization', 'climate', 'climates', 'vegetation', 'microclimates', 'climatic', 'land', 'landsat', 'temperatures', 'temperature']\n",
      "Topic 19: ['resilience', 'katrina', 'flooding', 'flood', 'disasters', 'resilient', 'socioeconomic', 'pandemic', 'inundation', 'rainstorm']\n"
     ]
    }
   ],
   "source": [
    "# Load embedding model\n",
    "ctfidf_model = ClassTfidfTransformer(reduce_frequent_words=True, bm25_weighting=True)\n",
    "countv = CountVectorizer(stop_words='english')\n",
    "representation_models = KeyBERTInspired()\n",
    "\n",
    "# Initialize BERTopic with NMF\n",
    "topic_model = BERTopic(\n",
    "    embedding_model=embedding_model,\n",
    "    representation_model=representation_models,\n",
    "    vectorizer_model=countv,\n",
    "    ctfidf_model=ctfidf_model,\n",
    "    verbose=True\n",
    ")\n",
    "print(\"Fitting BERTopic model using pre-calculated embeddings...\")\n",
    "topic_model.fit(abstracts, embeddings=document_embeddings)\n",
    "print(\"BERTopic model fitted.\")\n",
    "\n",
    "print(\"Transforming documents to get topic assignments and probabilities...\")\n",
    "topics, probabilities = topic_model.transform(abstracts, embeddings=document_embeddings)\n",
    "print(\"Transformation complete.\")\n",
    "\n",
    "topic_model.reduce_topics(abstracts)\n",
    "# View topics\n",
    "for topic_id, words in topic_model.get_topics().items():\n",
    "    if topic_id != -1:  # Exclude outlier topic (-1)\n",
    "        print(f\"Topic {topic_id + 1}: {[word for word, _ in words]}\")"
   ]
  },
  {
   "cell_type": "code",
   "execution_count": null,
   "id": "b8a2b986",
   "metadata": {},
   "outputs": [],
   "source": []
  }
 ],
 "metadata": {
  "kernelspec": {
   "display_name": "Python 3",
   "language": "python",
   "name": "python3"
  },
  "language_info": {
   "codemirror_mode": {
    "name": "ipython",
    "version": 3
   },
   "file_extension": ".py",
   "mimetype": "text/x-python",
   "name": "python",
   "nbconvert_exporter": "python",
   "pygments_lexer": "ipython3",
   "version": "3.10.6"
  }
 },
 "nbformat": 4,
 "nbformat_minor": 5
}
